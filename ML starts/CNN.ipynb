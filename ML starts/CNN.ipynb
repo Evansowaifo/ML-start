{
 "cells": [
  {
   "cell_type": "code",
   "execution_count": 7,
   "id": "1c639e5f-9d39-4512-8d66-51a857a79b40",
   "metadata": {},
   "outputs": [],
   "source": [
    "# Convolutional Neural Network\n",
    "# Importing the libraries\n",
    "import tensorflow as tf\n",
    "from keras.preprocessing.image import ImageDataGenerator"
   ]
  },
  {
   "cell_type": "code",
   "execution_count": 8,
   "id": "8d90e643-813e-41ef-8d3d-74ea4054ee0e",
   "metadata": {},
   "outputs": [
    {
     "name": "stdout",
     "output_type": "stream",
     "text": [
      "Found 8000 images belonging to 2 classes.\n",
      "Found 2000 images belonging to 2 classes.\n"
     ]
    }
   ],
   "source": [
    "# Part 1 - Data Preprocessing\n",
    "# Preprocessing the Train set\n",
    "train_datagen = ImageDataGenerator(rescale = 1./255,\n",
    "                                   shear_range = 0.2,\n",
    "                                   zoom_range = 0.2,\n",
    "                                   horizontal_flip = True)\n",
    "training_set = train_datagen.flow_from_directory('C:/Users/Christopher Ogbeide/Desktop/Machine Learning A-Z (Codes and Datasets)/Part 8 - Deep Learning/Section 40 - Convolutional Neural Networks (CNN)/Python/dataset/training_set',\n",
    "                                                target_size = (64, 64),\n",
    "                                                 batch_size = 32,\n",
    "                                                 class_mode = 'binary')\n",
    "# Preprocessing the Test set\n",
    "test_datagen = ImageDataGenerator(rescale = 1./255)\n",
    "test_set = test_datagen.flow_from_directory('C:/Users/Christopher Ogbeide/Desktop/Machine Learning A-Z (Codes and Datasets)/Part 8 - Deep Learning/Section 40 - Convolutional Neural Networks (CNN)/Python/dataset/test_set',\n",
    "                                            target_size = (64, 64),\n",
    "                                            batch_size = 32,\n",
    "                                            class_mode = 'binary')"
   ]
  },
  {
   "cell_type": "code",
   "execution_count": 9,
   "id": "ff056953-955c-4aa3-9062-155076793fe0",
   "metadata": {},
   "outputs": [],
   "source": [
    "# Initialising the CNN..................Building the CNN\n",
    "cnn = tf.keras.models.Sequential()\n",
    "\n",
    "# Convolution first step\n",
    "cnn.add(tf.keras.layers.Conv2D(filters = 32, kernel_size = 3, activation = 'relu', input_shape = [64, 64, 3]))\n",
    "\n",
    "#Pooling\n",
    "cnn.add(tf.keras.layers.MaxPool2D(pool_size = 2, strides = 2)) "
   ]
  },
  {
   "cell_type": "code",
   "execution_count": 10,
   "id": "1c3fe08c-2304-4a73-8b77-624111c92bc0",
   "metadata": {},
   "outputs": [],
   "source": [
    "# Adding a second convolutional layer\n",
    "cnn.add(tf.keras.layers.Conv2D(filters = 32, kernel_size = 3, activation = 'relu'))\n",
    "\n",
    "#Pooling\n",
    "cnn.add(tf.keras.layers.MaxPool2D(pool_size = 2, strides = 2))"
   ]
  },
  {
   "cell_type": "code",
   "execution_count": 11,
   "id": "cba834cc-62eb-4081-a36b-53b94b93a028",
   "metadata": {},
   "outputs": [],
   "source": [
    "# Step 3 - Flattening\n",
    "cnn.add(tf.keras.layers.Flatten())\n",
    "\n",
    "cnn.add(tf.keras.layers.Dense(units = 128, activation = 'relu'))\n",
    "cnn.add(tf.keras.layers.Dense(units = 1, activation = 'sigmoid'))"
   ]
  },
  {
   "cell_type": "code",
   "execution_count": 12,
   "id": "d14d072e-05c6-44f9-a612-76be732e2dc9",
   "metadata": {},
   "outputs": [
    {
     "name": "stdout",
     "output_type": "stream",
     "text": [
      "Epoch 1/25\n",
      "250/250 [==============================] - 335s 1s/step - loss: 0.6853 - accuracy: 0.5669 - val_loss: 0.6623 - val_accuracy: 0.5895\n",
      "Epoch 2/25\n",
      "250/250 [==============================] - 126s 480ms/step - loss: 0.6154 - accuracy: 0.6659 - val_loss: 0.5631 - val_accuracy: 0.7290\n",
      "Epoch 3/25\n",
      "250/250 [==============================] - 122s 477ms/step - loss: 0.5627 - accuracy: 0.7145 - val_loss: 0.5626 - val_accuracy: 0.7050\n",
      "Epoch 4/25\n",
      "250/250 [==============================] - 122s 479ms/step - loss: 0.5419 - accuracy: 0.7218 - val_loss: 0.5242 - val_accuracy: 0.7395\n",
      "Epoch 5/25\n",
      "250/250 [==============================] - 122s 479ms/step - loss: 0.5128 - accuracy: 0.7504 - val_loss: 0.5204 - val_accuracy: 0.7475\n",
      "Epoch 6/25\n",
      "250/250 [==============================] - 126s 479ms/step - loss: 0.4994 - accuracy: 0.7544 - val_loss: 0.5366 - val_accuracy: 0.7415\n",
      "Epoch 7/25\n",
      "250/250 [==============================] - 123s 481ms/step - loss: 0.4891 - accuracy: 0.7576 - val_loss: 0.4873 - val_accuracy: 0.7690\n",
      "Epoch 8/25\n",
      "250/250 [==============================] - 124s 481ms/step - loss: 0.4678 - accuracy: 0.7757 - val_loss: 0.4724 - val_accuracy: 0.7745\n",
      "Epoch 9/25\n",
      "250/250 [==============================] - 119s 466ms/step - loss: 0.4572 - accuracy: 0.7866 - val_loss: 0.4790 - val_accuracy: 0.7680\n",
      "Epoch 10/25\n",
      "250/250 [==============================] - 119s 464ms/step - loss: 0.4392 - accuracy: 0.7956 - val_loss: 0.4714 - val_accuracy: 0.7845\n",
      "Epoch 11/25\n",
      "250/250 [==============================] - 118s 462ms/step - loss: 0.4346 - accuracy: 0.7994 - val_loss: 0.4562 - val_accuracy: 0.7875\n",
      "Epoch 12/25\n",
      "250/250 [==============================] - 120s 468ms/step - loss: 0.4200 - accuracy: 0.8040 - val_loss: 0.4475 - val_accuracy: 0.7930\n",
      "Epoch 13/25\n",
      "250/250 [==============================] - 122s 478ms/step - loss: 0.4080 - accuracy: 0.8104 - val_loss: 0.4450 - val_accuracy: 0.7900\n",
      "Epoch 14/25\n",
      "250/250 [==============================] - 119s 466ms/step - loss: 0.4096 - accuracy: 0.8116 - val_loss: 0.5172 - val_accuracy: 0.7705\n",
      "Epoch 15/25\n",
      "250/250 [==============================] - 119s 468ms/step - loss: 0.4031 - accuracy: 0.8166 - val_loss: 0.4458 - val_accuracy: 0.8020\n",
      "Epoch 16/25\n",
      "250/250 [==============================] - 119s 466ms/step - loss: 0.3797 - accuracy: 0.8276 - val_loss: 0.4501 - val_accuracy: 0.7985\n",
      "Epoch 17/25\n",
      "250/250 [==============================] - 121s 473ms/step - loss: 0.3804 - accuracy: 0.8232 - val_loss: 0.4461 - val_accuracy: 0.8030\n",
      "Epoch 18/25\n",
      "250/250 [==============================] - 119s 467ms/step - loss: 0.3828 - accuracy: 0.8256 - val_loss: 0.5066 - val_accuracy: 0.7830\n",
      "Epoch 19/25\n",
      "250/250 [==============================] - 2365s 9s/step - loss: 0.3699 - accuracy: 0.8356 - val_loss: 0.4443 - val_accuracy: 0.8030\n",
      "Epoch 20/25\n",
      "250/250 [==============================] - 124s 487ms/step - loss: 0.3592 - accuracy: 0.8401 - val_loss: 0.4939 - val_accuracy: 0.7925\n",
      "Epoch 21/25\n",
      "250/250 [==============================] - 148s 577ms/step - loss: 0.3552 - accuracy: 0.8414 - val_loss: 0.5465 - val_accuracy: 0.7590\n",
      "Epoch 22/25\n",
      "250/250 [==============================] - 144s 563ms/step - loss: 0.3436 - accuracy: 0.8495 - val_loss: 0.4513 - val_accuracy: 0.8065\n",
      "Epoch 23/25\n",
      "250/250 [==============================] - 140s 543ms/step - loss: 0.3333 - accuracy: 0.8554 - val_loss: 0.5648 - val_accuracy: 0.7640\n",
      "Epoch 24/25\n",
      "250/250 [==============================] - 147s 559ms/step - loss: 0.3302 - accuracy: 0.8520 - val_loss: 0.4925 - val_accuracy: 0.7980\n",
      "Epoch 25/25\n",
      "250/250 [==============================] - 144s 562ms/step - loss: 0.3210 - accuracy: 0.8545 - val_loss: 0.4558 - val_accuracy: 0.8150\n"
     ]
    },
    {
     "data": {
      "text/plain": [
       "<keras.callbacks.History at 0xd55bbec3d0>"
      ]
     },
     "execution_count": 12,
     "metadata": {},
     "output_type": "execute_result"
    }
   ],
   "source": [
    "# Part 3 - Training the CNN\n",
    "\n",
    "# Compiling the CNN\n",
    "cnn.compile(optimizer = 'adam', loss = 'binary_crossentropy', metrics = ['accuracy'])\n",
    "\n",
    "# Training the CNN\n",
    "cnn.fit(x = training_set, validation_data = test_set, epochs = 25)"
   ]
  },
  {
   "cell_type": "code",
   "execution_count": 13,
   "id": "6ce736a9-0279-4bcf-8166-045260e14140",
   "metadata": {},
   "outputs": [
    {
     "name": "stdout",
     "output_type": "stream",
     "text": [
      "1/1 [==============================] - 12s 12s/step\n",
      "dog\n"
     ]
    }
   ],
   "source": [
    "# Making a single prediction\n",
    "\n",
    "import numpy as np\n",
    "import keras.utils as image\n",
    "\n",
    "test_image = image.load_img('C:/Users/Christopher Ogbeide/Desktop/Machine Learning A-Z (Codes and Datasets)/Part 8 - Deep Learning/Section 40 - Convolutional Neural Networks (CNN)/Python/dataset/pred_set/dog.222.jpg', target_size = (64, 64))\n",
    "test_image = image.img_to_array(test_image)\n",
    "test_image = np.expand_dims(test_image, axis = 0)\n",
    "\n",
    "result = cnn.predict(test_image)\n",
    "training_set.class_indices\n",
    "if result[0][0] == 1:\n",
    "    prediction = 'dog'\n",
    "else:\n",
    "    prediction = 'cat'\n",
    "\n",
    "print(prediction)"
   ]
  },
  {
   "cell_type": "code",
   "execution_count": null,
   "id": "fb8a37ec-cbf8-4388-a64d-40b3daf0a472",
   "metadata": {},
   "outputs": [],
   "source": []
  },
  {
   "cell_type": "code",
   "execution_count": null,
   "id": "41ec8f3b-8339-4492-a6b9-e7f4ea4e544d",
   "metadata": {},
   "outputs": [],
   "source": []
  }
 ],
 "metadata": {
  "kernelspec": {
   "display_name": "Python 3 (ipykernel)",
   "language": "python",
   "name": "python3"
  },
  "language_info": {
   "codemirror_mode": {
    "name": "ipython",
    "version": 3
   },
   "file_extension": ".py",
   "mimetype": "text/x-python",
   "name": "python",
   "nbconvert_exporter": "python",
   "pygments_lexer": "ipython3",
   "version": "3.10.2"
  }
 },
 "nbformat": 4,
 "nbformat_minor": 5
}
