{
 "cells": [
  {
   "cell_type": "code",
   "execution_count": 80,
   "id": "ba1ead24-4c0e-4500-b9f4-0eabbda93fca",
   "metadata": {},
   "outputs": [],
   "source": [
    "import pandas as pd\n",
    "import numpy as np\n",
    "import matplotlib.pyplot as plt\n",
    "import tensorflow as tf"
   ]
  },
  {
   "cell_type": "code",
   "execution_count": 81,
   "id": "73963a65-b939-46e3-9548-f90074d89ab2",
   "metadata": {},
   "outputs": [],
   "source": [
    "dataset = pd.read_csv('C:/Users/Christopher Ogbeide/Desktop/data/Churn_Modelling.csv')"
   ]
  },
  {
   "cell_type": "code",
   "execution_count": 82,
   "id": "cce81906-9c1e-4ffa-b3f3-27f7539f97b7",
   "metadata": {},
   "outputs": [
    {
     "data": {
      "text/html": [
       "<div>\n",
       "<style scoped>\n",
       "    .dataframe tbody tr th:only-of-type {\n",
       "        vertical-align: middle;\n",
       "    }\n",
       "\n",
       "    .dataframe tbody tr th {\n",
       "        vertical-align: top;\n",
       "    }\n",
       "\n",
       "    .dataframe thead th {\n",
       "        text-align: right;\n",
       "    }\n",
       "</style>\n",
       "<table border=\"1\" class=\"dataframe\">\n",
       "  <thead>\n",
       "    <tr style=\"text-align: right;\">\n",
       "      <th></th>\n",
       "      <th>RowNumber</th>\n",
       "      <th>CustomerId</th>\n",
       "      <th>Surname</th>\n",
       "      <th>CreditScore</th>\n",
       "      <th>Geography</th>\n",
       "      <th>Gender</th>\n",
       "      <th>Age</th>\n",
       "      <th>Tenure</th>\n",
       "      <th>Balance</th>\n",
       "      <th>NumOfProducts</th>\n",
       "      <th>HasCrCard</th>\n",
       "      <th>IsActiveMember</th>\n",
       "      <th>EstimatedSalary</th>\n",
       "      <th>Exited</th>\n",
       "    </tr>\n",
       "  </thead>\n",
       "  <tbody>\n",
       "    <tr>\n",
       "      <th>0</th>\n",
       "      <td>1</td>\n",
       "      <td>15634602</td>\n",
       "      <td>Hargrave</td>\n",
       "      <td>619</td>\n",
       "      <td>France</td>\n",
       "      <td>Female</td>\n",
       "      <td>42</td>\n",
       "      <td>2</td>\n",
       "      <td>0.00</td>\n",
       "      <td>1</td>\n",
       "      <td>1</td>\n",
       "      <td>1</td>\n",
       "      <td>101348.88</td>\n",
       "      <td>1</td>\n",
       "    </tr>\n",
       "    <tr>\n",
       "      <th>1</th>\n",
       "      <td>2</td>\n",
       "      <td>15647311</td>\n",
       "      <td>Hill</td>\n",
       "      <td>608</td>\n",
       "      <td>Spain</td>\n",
       "      <td>Female</td>\n",
       "      <td>41</td>\n",
       "      <td>1</td>\n",
       "      <td>83807.86</td>\n",
       "      <td>1</td>\n",
       "      <td>0</td>\n",
       "      <td>1</td>\n",
       "      <td>112542.58</td>\n",
       "      <td>0</td>\n",
       "    </tr>\n",
       "    <tr>\n",
       "      <th>2</th>\n",
       "      <td>3</td>\n",
       "      <td>15619304</td>\n",
       "      <td>Onio</td>\n",
       "      <td>502</td>\n",
       "      <td>France</td>\n",
       "      <td>Female</td>\n",
       "      <td>42</td>\n",
       "      <td>8</td>\n",
       "      <td>159660.80</td>\n",
       "      <td>3</td>\n",
       "      <td>1</td>\n",
       "      <td>0</td>\n",
       "      <td>113931.57</td>\n",
       "      <td>1</td>\n",
       "    </tr>\n",
       "    <tr>\n",
       "      <th>3</th>\n",
       "      <td>4</td>\n",
       "      <td>15701354</td>\n",
       "      <td>Boni</td>\n",
       "      <td>699</td>\n",
       "      <td>France</td>\n",
       "      <td>Female</td>\n",
       "      <td>39</td>\n",
       "      <td>1</td>\n",
       "      <td>0.00</td>\n",
       "      <td>2</td>\n",
       "      <td>0</td>\n",
       "      <td>0</td>\n",
       "      <td>93826.63</td>\n",
       "      <td>0</td>\n",
       "    </tr>\n",
       "    <tr>\n",
       "      <th>4</th>\n",
       "      <td>5</td>\n",
       "      <td>15737888</td>\n",
       "      <td>Mitchell</td>\n",
       "      <td>850</td>\n",
       "      <td>Spain</td>\n",
       "      <td>Female</td>\n",
       "      <td>43</td>\n",
       "      <td>2</td>\n",
       "      <td>125510.82</td>\n",
       "      <td>1</td>\n",
       "      <td>1</td>\n",
       "      <td>1</td>\n",
       "      <td>79084.10</td>\n",
       "      <td>0</td>\n",
       "    </tr>\n",
       "  </tbody>\n",
       "</table>\n",
       "</div>"
      ],
      "text/plain": [
       "   RowNumber  CustomerId   Surname  CreditScore Geography  Gender  Age  \\\n",
       "0          1    15634602  Hargrave          619    France  Female   42   \n",
       "1          2    15647311      Hill          608     Spain  Female   41   \n",
       "2          3    15619304      Onio          502    France  Female   42   \n",
       "3          4    15701354      Boni          699    France  Female   39   \n",
       "4          5    15737888  Mitchell          850     Spain  Female   43   \n",
       "\n",
       "   Tenure    Balance  NumOfProducts  HasCrCard  IsActiveMember  \\\n",
       "0       2       0.00              1          1               1   \n",
       "1       1   83807.86              1          0               1   \n",
       "2       8  159660.80              3          1               0   \n",
       "3       1       0.00              2          0               0   \n",
       "4       2  125510.82              1          1               1   \n",
       "\n",
       "   EstimatedSalary  Exited  \n",
       "0        101348.88       1  \n",
       "1        112542.58       0  \n",
       "2        113931.57       1  \n",
       "3         93826.63       0  \n",
       "4         79084.10       0  "
      ]
     },
     "execution_count": 82,
     "metadata": {},
     "output_type": "execute_result"
    }
   ],
   "source": [
    "dataset.head()"
   ]
  },
  {
   "cell_type": "code",
   "execution_count": 83,
   "id": "1aa36bf2-6026-4c5c-865b-0364c121e9e0",
   "metadata": {},
   "outputs": [],
   "source": [
    "x = dataset.iloc[:, 3:-1].values\n",
    "y = dataset.iloc[:, -1].values"
   ]
  },
  {
   "cell_type": "code",
   "execution_count": 84,
   "id": "cba189d8-9262-451d-b965-7e0da56eb46d",
   "metadata": {},
   "outputs": [
    {
     "data": {
      "text/plain": [
       "array([[619, 'France', 'Female', 42, 2, 0.0, 1, 1, 1, 101348.88],\n",
       "       [608, 'Spain', 'Female', 41, 1, 83807.86, 1, 0, 1, 112542.58],\n",
       "       [502, 'France', 'Female', 42, 8, 159660.8, 3, 1, 0, 113931.57],\n",
       "       [699, 'France', 'Female', 39, 1, 0.0, 2, 0, 0, 93826.63]],\n",
       "      dtype=object)"
      ]
     },
     "execution_count": 84,
     "metadata": {},
     "output_type": "execute_result"
    }
   ],
   "source": [
    "x[:4]"
   ]
  },
  {
   "cell_type": "code",
   "execution_count": 85,
   "id": "03bf2f91-a495-4591-924a-877a4a937d8d",
   "metadata": {},
   "outputs": [],
   "source": [
    "from sklearn.preprocessing import LabelEncoder\n",
    "le = LabelEncoder()\n",
    "x[:, 2] = le.fit_transform(x[:, 2])"
   ]
  },
  {
   "cell_type": "code",
   "execution_count": 86,
   "id": "aa22e0a0-c73e-4367-8f86-bde83b9478db",
   "metadata": {},
   "outputs": [
    {
     "data": {
      "text/plain": [
       "array([[619, 'France', 0, 42, 2, 0.0, 1, 1, 1, 101348.88],\n",
       "       [608, 'Spain', 0, 41, 1, 83807.86, 1, 0, 1, 112542.58],\n",
       "       [502, 'France', 0, 42, 8, 159660.8, 3, 1, 0, 113931.57],\n",
       "       [699, 'France', 0, 39, 1, 0.0, 2, 0, 0, 93826.63]], dtype=object)"
      ]
     },
     "execution_count": 86,
     "metadata": {},
     "output_type": "execute_result"
    }
   ],
   "source": [
    "x[:4]"
   ]
  },
  {
   "cell_type": "code",
   "execution_count": 87,
   "id": "0f31de33-3148-4a35-86fb-7396d3459182",
   "metadata": {},
   "outputs": [],
   "source": [
    "from sklearn.compose import ColumnTransformer\n",
    "from sklearn.preprocessing import OneHotEncoder\n",
    "ct = ColumnTransformer(transformers= [('encoder', OneHotEncoder(), [1])], remainder = 'passthrough')\n",
    "x = np.array(ct.fit_transform(x))"
   ]
  },
  {
   "cell_type": "code",
   "execution_count": 88,
   "id": "29dcd9db-d00c-4fbb-9da1-aa965de4ef73",
   "metadata": {},
   "outputs": [
    {
     "data": {
      "text/plain": [
       "array([[1.0, 0.0, 0.0, 619, 0, 42, 2, 0.0, 1, 1, 1, 101348.88],\n",
       "       [0.0, 0.0, 1.0, 608, 0, 41, 1, 83807.86, 1, 0, 1, 112542.58],\n",
       "       [1.0, 0.0, 0.0, 502, 0, 42, 8, 159660.8, 3, 1, 0, 113931.57],\n",
       "       [1.0, 0.0, 0.0, 699, 0, 39, 1, 0.0, 2, 0, 0, 93826.63]],\n",
       "      dtype=object)"
      ]
     },
     "execution_count": 88,
     "metadata": {},
     "output_type": "execute_result"
    }
   ],
   "source": [
    "x[:4]"
   ]
  },
  {
   "cell_type": "code",
   "execution_count": 89,
   "id": "a1845582-c225-4124-80ae-3f1cdfc5f58a",
   "metadata": {},
   "outputs": [],
   "source": [
    "from sklearn.model_selection import train_test_split\n",
    "x_train, x_test, y_train, y_test = train_test_split(x, y, test_size = 0.2, random_state = 0)"
   ]
  },
  {
   "cell_type": "code",
   "execution_count": 90,
   "id": "80812297-e8c6-4c59-baf9-b228f67d4e38",
   "metadata": {},
   "outputs": [
    {
     "data": {
      "text/plain": [
       "array([[0.0, 0.0, 1.0, 667, 0, 34, 5, 0.0, 2, 1, 0, 163830.64],\n",
       "       [0.0, 1.0, 0.0, 427, 1, 42, 1, 75681.52, 1, 1, 1, 57098.0],\n",
       "       [1.0, 0.0, 0.0, 535, 0, 29, 2, 112367.34, 1, 1, 0, 185630.76],\n",
       "       [0.0, 0.0, 1.0, 654, 1, 40, 5, 105683.63, 1, 1, 0, 173617.09]],\n",
       "      dtype=object)"
      ]
     },
     "execution_count": 90,
     "metadata": {},
     "output_type": "execute_result"
    }
   ],
   "source": [
    "x_train[:4]"
   ]
  },
  {
   "cell_type": "code",
   "execution_count": 91,
   "id": "77cb8a4c-1dc7-4f8e-87a8-134c194a56b0",
   "metadata": {},
   "outputs": [],
   "source": [
    "from sklearn.preprocessing import StandardScaler\n",
    "sc = StandardScaler()\n",
    "x_train = sc.fit_transform(x_train)\n",
    "x_test = sc.transform(x_test)"
   ]
  },
  {
   "cell_type": "code",
   "execution_count": 92,
   "id": "12cf2fff-5e46-471f-8c07-ccec90c85783",
   "metadata": {},
   "outputs": [
    {
     "data": {
      "text/plain": [
       "array([[-1.01460667, -0.5698444 ,  1.74309049,  0.16958176, -1.09168714,\n",
       "        -0.46460796,  0.00666099, -1.21571749,  0.8095029 ,  0.64259497,\n",
       "        -1.03227043,  1.10643166],\n",
       "       [-1.01460667,  1.75486502, -0.57369368, -2.30455945,  0.91601335,\n",
       "         0.30102557, -1.37744033, -0.00631193, -0.92159124,  0.64259497,\n",
       "         0.9687384 , -0.74866447],\n",
       "       [ 0.98560362, -0.5698444 , -0.57369368, -1.19119591, -1.09168714,\n",
       "        -0.94312892, -1.031415  ,  0.57993469, -0.92159124,  0.64259497,\n",
       "        -1.03227043,  1.48533467],\n",
       "       [-1.01460667, -0.5698444 ,  1.74309049,  0.03556578,  0.91601335,\n",
       "         0.10961719,  0.00666099,  0.47312769, -0.92159124,  0.64259497,\n",
       "        -1.03227043,  1.27652776]])"
      ]
     },
     "execution_count": 92,
     "metadata": {},
     "output_type": "execute_result"
    }
   ],
   "source": [
    "x_train[:4]"
   ]
  },
  {
   "cell_type": "code",
   "execution_count": 93,
   "id": "a3e20042-75a4-46ec-8d5f-34590b5f5532",
   "metadata": {},
   "outputs": [],
   "source": [
    "#Beginning of Artifical Neuron Network \n",
    "ann = tf.keras.models.Sequential()\n",
    "ann.add(tf.keras.layers.Dense(units=6, activation='relu'))\n",
    "ann.add(tf.keras.layers.Dense(units=6, activation='relu'))\n",
    "ann.add(tf.keras.layers.Dense(units=1, activation='sigmoid'))"
   ]
  },
  {
   "cell_type": "code",
   "execution_count": 94,
   "id": "00b72b73-a2e5-4095-b017-a9c656b22aa8",
   "metadata": {},
   "outputs": [],
   "source": [
    "#Compilinf of ANN\n",
    "ann.compile(optimizer = 'adam', loss = 'binary_crossentropy', metrics = ['accuracy'])"
   ]
  },
  {
   "cell_type": "code",
   "execution_count": 95,
   "id": "9ffac7d1-e214-4c5d-8092-5bcc7560d913",
   "metadata": {},
   "outputs": [
    {
     "name": "stdout",
     "output_type": "stream",
     "text": [
      "Epoch 1/40\n",
      "250/250 [==============================] - 14s 9ms/step - loss: 0.5827 - accuracy: 0.7649\n",
      "Epoch 2/40\n",
      "250/250 [==============================] - 1s 5ms/step - loss: 0.4982 - accuracy: 0.7959\n",
      "Epoch 3/40\n",
      "250/250 [==============================] - 1s 5ms/step - loss: 0.4587 - accuracy: 0.7970\n",
      "Epoch 4/40\n",
      "250/250 [==============================] - 1s 4ms/step - loss: 0.4378 - accuracy: 0.8000\n",
      "Epoch 5/40\n",
      "250/250 [==============================] - 1s 4ms/step - loss: 0.4275 - accuracy: 0.8070\n",
      "Epoch 6/40\n",
      "250/250 [==============================] - 1s 4ms/step - loss: 0.4207 - accuracy: 0.8117\n",
      "Epoch 7/40\n",
      "250/250 [==============================] - 2s 8ms/step - loss: 0.4129 - accuracy: 0.8191\n",
      "Epoch 8/40\n",
      "250/250 [==============================] - 2s 6ms/step - loss: 0.4046 - accuracy: 0.8261\n",
      "Epoch 9/40\n",
      "250/250 [==============================] - 1s 5ms/step - loss: 0.3950 - accuracy: 0.8317\n",
      "Epoch 10/40\n",
      "250/250 [==============================] - 1s 4ms/step - loss: 0.3853 - accuracy: 0.8372\n",
      "Epoch 11/40\n",
      "250/250 [==============================] - 1s 4ms/step - loss: 0.3771 - accuracy: 0.8415\n",
      "Epoch 12/40\n",
      "250/250 [==============================] - 1s 4ms/step - loss: 0.3699 - accuracy: 0.8440\n",
      "Epoch 13/40\n",
      "250/250 [==============================] - 1s 4ms/step - loss: 0.3646 - accuracy: 0.8478\n",
      "Epoch 14/40\n",
      "250/250 [==============================] - 1s 4ms/step - loss: 0.3600 - accuracy: 0.8509\n",
      "Epoch 15/40\n",
      "250/250 [==============================] - 2s 8ms/step - loss: 0.3559 - accuracy: 0.8518\n",
      "Epoch 16/40\n",
      "250/250 [==============================] - 1s 5ms/step - loss: 0.3530 - accuracy: 0.8544\n",
      "Epoch 17/40\n",
      "250/250 [==============================] - 1s 4ms/step - loss: 0.3507 - accuracy: 0.8539\n",
      "Epoch 18/40\n",
      "250/250 [==============================] - 1s 4ms/step - loss: 0.3493 - accuracy: 0.8554\n",
      "Epoch 19/40\n",
      "250/250 [==============================] - 1s 5ms/step - loss: 0.3477 - accuracy: 0.8570\n",
      "Epoch 20/40\n",
      "250/250 [==============================] - 1s 5ms/step - loss: 0.3469 - accuracy: 0.8576\n",
      "Epoch 21/40\n",
      "250/250 [==============================] - 1s 5ms/step - loss: 0.3464 - accuracy: 0.8576\n",
      "Epoch 22/40\n",
      "250/250 [==============================] - 1s 5ms/step - loss: 0.3458 - accuracy: 0.8595\n",
      "Epoch 23/40\n",
      "250/250 [==============================] - 1s 4ms/step - loss: 0.3451 - accuracy: 0.8570\n",
      "Epoch 24/40\n",
      "250/250 [==============================] - 1s 5ms/step - loss: 0.3451 - accuracy: 0.8593\n",
      "Epoch 25/40\n",
      "250/250 [==============================] - 1s 5ms/step - loss: 0.3442 - accuracy: 0.8593\n",
      "Epoch 26/40\n",
      "250/250 [==============================] - 2s 7ms/step - loss: 0.3440 - accuracy: 0.8611\n",
      "Epoch 27/40\n",
      "250/250 [==============================] - 2s 7ms/step - loss: 0.3439 - accuracy: 0.8583\n",
      "Epoch 28/40\n",
      "250/250 [==============================] - 1s 5ms/step - loss: 0.3436 - accuracy: 0.8610\n",
      "Epoch 29/40\n",
      "250/250 [==============================] - 1s 5ms/step - loss: 0.3431 - accuracy: 0.8612\n",
      "Epoch 30/40\n",
      "250/250 [==============================] - 1s 5ms/step - loss: 0.3426 - accuracy: 0.8610\n",
      "Epoch 31/40\n",
      "250/250 [==============================] - 1s 5ms/step - loss: 0.3422 - accuracy: 0.8612\n",
      "Epoch 32/40\n",
      "250/250 [==============================] - 1s 5ms/step - loss: 0.3422 - accuracy: 0.8610\n",
      "Epoch 33/40\n",
      "250/250 [==============================] - 1s 4ms/step - loss: 0.3418 - accuracy: 0.8618\n",
      "Epoch 34/40\n",
      "250/250 [==============================] - 1s 5ms/step - loss: 0.3414 - accuracy: 0.8619\n",
      "Epoch 35/40\n",
      "250/250 [==============================] - 1s 4ms/step - loss: 0.3411 - accuracy: 0.8612\n",
      "Epoch 36/40\n",
      "250/250 [==============================] - 1s 5ms/step - loss: 0.3411 - accuracy: 0.8597\n",
      "Epoch 37/40\n",
      "250/250 [==============================] - 1s 4ms/step - loss: 0.3406 - accuracy: 0.8625\n",
      "Epoch 38/40\n",
      "250/250 [==============================] - 1s 5ms/step - loss: 0.3407 - accuracy: 0.8626\n",
      "Epoch 39/40\n",
      "250/250 [==============================] - 1s 4ms/step - loss: 0.3404 - accuracy: 0.8620\n",
      "Epoch 40/40\n",
      "250/250 [==============================] - 1s 5ms/step - loss: 0.3403 - accuracy: 0.8620\n"
     ]
    },
    {
     "data": {
      "text/plain": [
       "<keras.callbacks.History at 0x4a81adb400>"
      ]
     },
     "execution_count": 95,
     "metadata": {},
     "output_type": "execute_result"
    }
   ],
   "source": [
    "# Training the ANN with Traning Set\n",
    "ann.fit(x_train, y_train, batch_size = 32, epochs = 40)"
   ]
  },
  {
   "cell_type": "code",
   "execution_count": 100,
   "id": "99f4d834-149d-4368-9ced-577562d0f713",
   "metadata": {},
   "outputs": [
    {
     "name": "stdout",
     "output_type": "stream",
     "text": [
      "1/1 [==============================] - 0s 418ms/step\n"
     ]
    },
    {
     "data": {
      "text/plain": [
       "array([[False]])"
      ]
     },
     "execution_count": 100,
     "metadata": {},
     "output_type": "execute_result"
    }
   ],
   "source": [
    "ann.predict(sc.transform([[1, 0, 0, 600, 1, 40, 3, 60000, 2, 1, 1, 50000]])) > 0.5"
   ]
  },
  {
   "cell_type": "code",
   "execution_count": 190,
   "id": "351f7d47-71cf-432b-a285-aa0e3919f746",
   "metadata": {},
   "outputs": [
    {
     "name": "stdout",
     "output_type": "stream",
     "text": [
      "63/63 [==============================] - 1s 6ms/step\n"
     ]
    }
   ],
   "source": [
    "y_pred = ann.predict(x_test)\n",
    "y_pred = (y_pred > 0.5)"
   ]
  },
  {
   "cell_type": "code",
   "execution_count": 185,
   "id": "aab3ac02-bdd6-4255-8da2-2c0821b2cef6",
   "metadata": {},
   "outputs": [],
   "source": [
    "#y_pred = y_pred[:4] > 0.5\n",
    "#y_pred\n",
    "#y_pred = y_pred.replace(False, 'Will Stay')\n",
    "#y_pred = pred.replace(True, 'Will Leave') "
   ]
  },
  {
   "cell_type": "code",
   "execution_count": 192,
   "id": "024aa24e-2db5-4ffb-a226-c850d5ba1b12",
   "metadata": {},
   "outputs": [
    {
     "name": "stdout",
     "output_type": "stream",
     "text": [
      "[[0 0]\n",
      " [0 1]\n",
      " [0 0]\n",
      " ...\n",
      " [0 0]\n",
      " [0 0]\n",
      " [0 0]]\n"
     ]
    }
   ],
   "source": [
    "print(np.concatenate((y_pred.reshape(len(y_pred),1), y_test.reshape(len(y_test),1)),1))"
   ]
  },
  {
   "cell_type": "code",
   "execution_count": 181,
   "id": "cee16ba2-7fb8-4b1d-a8a2-1dc7d853b667",
   "metadata": {},
   "outputs": [
    {
     "data": {
      "text/html": [
       "<div>\n",
       "<style scoped>\n",
       "    .dataframe tbody tr th:only-of-type {\n",
       "        vertical-align: middle;\n",
       "    }\n",
       "\n",
       "    .dataframe tbody tr th {\n",
       "        vertical-align: top;\n",
       "    }\n",
       "\n",
       "    .dataframe thead th {\n",
       "        text-align: right;\n",
       "    }\n",
       "</style>\n",
       "<table border=\"1\" class=\"dataframe\">\n",
       "  <thead>\n",
       "    <tr style=\"text-align: right;\">\n",
       "      <th></th>\n",
       "      <th>0</th>\n",
       "    </tr>\n",
       "  </thead>\n",
       "  <tbody>\n",
       "    <tr>\n",
       "      <th>0</th>\n",
       "      <td>Will Stay</td>\n",
       "    </tr>\n",
       "    <tr>\n",
       "      <th>1</th>\n",
       "      <td>Will Stay</td>\n",
       "    </tr>\n",
       "    <tr>\n",
       "      <th>0</th>\n",
       "      <td>Will Stay</td>\n",
       "    </tr>\n",
       "    <tr>\n",
       "      <th>0</th>\n",
       "      <td>Will Stay</td>\n",
       "    </tr>\n",
       "    <tr>\n",
       "      <th>0</th>\n",
       "      <td>Will Stay</td>\n",
       "    </tr>\n",
       "    <tr>\n",
       "      <th>1</th>\n",
       "      <td>Will Leave</td>\n",
       "    </tr>\n",
       "    <tr>\n",
       "      <th>0</th>\n",
       "      <td>Will Stay</td>\n",
       "    </tr>\n",
       "    <tr>\n",
       "      <th>0</th>\n",
       "      <td>Will Stay</td>\n",
       "    </tr>\n",
       "    <tr>\n",
       "      <th>1</th>\n",
       "      <td>Will Stay</td>\n",
       "    </tr>\n",
       "    <tr>\n",
       "      <th>1</th>\n",
       "      <td>Will Leave</td>\n",
       "    </tr>\n",
       "  </tbody>\n",
       "</table>\n",
       "</div>"
      ],
      "text/plain": [
       "            0\n",
       "0   Will Stay\n",
       "1   Will Stay\n",
       "0   Will Stay\n",
       "0   Will Stay\n",
       "0   Will Stay\n",
       "1  Will Leave\n",
       "0   Will Stay\n",
       "0   Will Stay\n",
       "1   Will Stay\n",
       "1  Will Leave"
      ]
     },
     "execution_count": 181,
     "metadata": {},
     "output_type": "execute_result"
    }
   ],
   "source": [
    "df = pd.DataFrame(y_pred.flatten(), y_test.flatten()) > 0.5\n",
    "df = df.replace(False, 'Will Stay')\n",
    "df = df.replace(True, 'Will Leave')\n",
    "df[:10]"
   ]
  },
  {
   "cell_type": "code",
   "execution_count": 193,
   "id": "bc605f85-a025-42bc-b36f-9b5fb1f83c73",
   "metadata": {},
   "outputs": [
    {
     "name": "stdout",
     "output_type": "stream",
     "text": [
      "[[1504   91]\n",
      " [ 196  209]]\n"
     ]
    },
    {
     "data": {
      "text/plain": [
       "0.8565"
      ]
     },
     "execution_count": 193,
     "metadata": {},
     "output_type": "execute_result"
    }
   ],
   "source": [
    "# Making the Confusion Matrix\n",
    "from sklearn.metrics import confusion_matrix, accuracy_score\n",
    "cm = confusion_matrix(y_test, y_pred)\n",
    "print(cm)\n",
    "accuracy_score(y_test, y_pred)"
   ]
  },
  {
   "cell_type": "code",
   "execution_count": null,
   "id": "e7367213-1496-4b67-aa1b-5805a76e0265",
   "metadata": {},
   "outputs": [],
   "source": []
  }
 ],
 "metadata": {
  "kernelspec": {
   "display_name": "Python 3 (ipykernel)",
   "language": "python",
   "name": "python3"
  },
  "language_info": {
   "codemirror_mode": {
    "name": "ipython",
    "version": 3
   },
   "file_extension": ".py",
   "mimetype": "text/x-python",
   "name": "python",
   "nbconvert_exporter": "python",
   "pygments_lexer": "ipython3",
   "version": "3.10.2"
  }
 },
 "nbformat": 4,
 "nbformat_minor": 5
}
