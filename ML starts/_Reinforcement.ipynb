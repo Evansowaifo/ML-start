{
 "cells": [
  {
   "cell_type": "code",
   "execution_count": 1,
   "id": "d655f5cd-e60a-4ddf-a167-7f057ca38951",
   "metadata": {},
   "outputs": [],
   "source": [
    "import pandas as pd\n",
    "import numpy as np\n",
    "import matplotlib.pyplot as plt"
   ]
  },
  {
   "cell_type": "code",
   "execution_count": 2,
   "id": "070e3f4a-12f5-489b-b68b-8464fe27f3ee",
   "metadata": {},
   "outputs": [],
   "source": [
    "dataset = pd.read_csv('C:/Users/Christopher Ogbeide/Desktop/data/Ads_CTR_Optimisation.csv')"
   ]
  },
  {
   "cell_type": "code",
   "execution_count": 3,
   "id": "d7436bf2-f4c3-4e24-a1c7-e82e97235fc9",
   "metadata": {},
   "outputs": [
    {
     "data": {
      "text/html": [
       "<div>\n",
       "<style scoped>\n",
       "    .dataframe tbody tr th:only-of-type {\n",
       "        vertical-align: middle;\n",
       "    }\n",
       "\n",
       "    .dataframe tbody tr th {\n",
       "        vertical-align: top;\n",
       "    }\n",
       "\n",
       "    .dataframe thead th {\n",
       "        text-align: right;\n",
       "    }\n",
       "</style>\n",
       "<table border=\"1\" class=\"dataframe\">\n",
       "  <thead>\n",
       "    <tr style=\"text-align: right;\">\n",
       "      <th></th>\n",
       "      <th>Ad 1</th>\n",
       "      <th>Ad 2</th>\n",
       "      <th>Ad 3</th>\n",
       "      <th>Ad 4</th>\n",
       "      <th>Ad 5</th>\n",
       "      <th>Ad 6</th>\n",
       "      <th>Ad 7</th>\n",
       "      <th>Ad 8</th>\n",
       "      <th>Ad 9</th>\n",
       "      <th>Ad 10</th>\n",
       "    </tr>\n",
       "  </thead>\n",
       "  <tbody>\n",
       "    <tr>\n",
       "      <th>0</th>\n",
       "      <td>1</td>\n",
       "      <td>0</td>\n",
       "      <td>0</td>\n",
       "      <td>0</td>\n",
       "      <td>1</td>\n",
       "      <td>0</td>\n",
       "      <td>0</td>\n",
       "      <td>0</td>\n",
       "      <td>1</td>\n",
       "      <td>0</td>\n",
       "    </tr>\n",
       "    <tr>\n",
       "      <th>1</th>\n",
       "      <td>0</td>\n",
       "      <td>0</td>\n",
       "      <td>0</td>\n",
       "      <td>0</td>\n",
       "      <td>0</td>\n",
       "      <td>0</td>\n",
       "      <td>0</td>\n",
       "      <td>0</td>\n",
       "      <td>1</td>\n",
       "      <td>0</td>\n",
       "    </tr>\n",
       "    <tr>\n",
       "      <th>2</th>\n",
       "      <td>0</td>\n",
       "      <td>0</td>\n",
       "      <td>0</td>\n",
       "      <td>0</td>\n",
       "      <td>0</td>\n",
       "      <td>0</td>\n",
       "      <td>0</td>\n",
       "      <td>0</td>\n",
       "      <td>0</td>\n",
       "      <td>0</td>\n",
       "    </tr>\n",
       "    <tr>\n",
       "      <th>3</th>\n",
       "      <td>0</td>\n",
       "      <td>1</td>\n",
       "      <td>0</td>\n",
       "      <td>0</td>\n",
       "      <td>0</td>\n",
       "      <td>0</td>\n",
       "      <td>0</td>\n",
       "      <td>1</td>\n",
       "      <td>0</td>\n",
       "      <td>0</td>\n",
       "    </tr>\n",
       "    <tr>\n",
       "      <th>4</th>\n",
       "      <td>0</td>\n",
       "      <td>0</td>\n",
       "      <td>0</td>\n",
       "      <td>0</td>\n",
       "      <td>0</td>\n",
       "      <td>0</td>\n",
       "      <td>0</td>\n",
       "      <td>0</td>\n",
       "      <td>0</td>\n",
       "      <td>0</td>\n",
       "    </tr>\n",
       "  </tbody>\n",
       "</table>\n",
       "</div>"
      ],
      "text/plain": [
       "   Ad 1  Ad 2  Ad 3  Ad 4  Ad 5  Ad 6  Ad 7  Ad 8  Ad 9  Ad 10\n",
       "0     1     0     0     0     1     0     0     0     1      0\n",
       "1     0     0     0     0     0     0     0     0     1      0\n",
       "2     0     0     0     0     0     0     0     0     0      0\n",
       "3     0     1     0     0     0     0     0     1     0      0\n",
       "4     0     0     0     0     0     0     0     0     0      0"
      ]
     },
     "execution_count": 3,
     "metadata": {},
     "output_type": "execute_result"
    }
   ],
   "source": [
    "dataset.head()"
   ]
  },
  {
   "cell_type": "code",
   "execution_count": 29,
   "id": "902234eb-b964-4b77-acda-d0a19b21d3dc",
   "metadata": {},
   "outputs": [
    {
     "data": {
      "text/plain": [
       "(array([1., 0., 0., 0., 0., 0., 0., 0., 0., 1.]),\n",
       " array([0. , 0.1, 0.2, 0.3, 0.4, 0.5, 0.6, 0.7, 0.8, 0.9, 1. ]),\n",
       " <BarContainer object of 10 artists>)"
      ]
     },
     "execution_count": 29,
     "metadata": {},
     "output_type": "execute_result"
    },
    {
     "data": {
      "image/png": "[encoded data removed]",
      "text/plain": [
       "<Figure size 432x288 with 1 Axes>"
      ]
     },
     "metadata": {
      "needs_background": "light"
     },
     "output_type": "display_data"
    }
   ],
   "source": [
    "a = dataset.columns[0]\n",
    "b = dataset.columns[1]\n",
    "\n",
    "c = [a, b]\n",
    "plt.hist(c)"
   ]
  },
  {
   "cell_type": "code",
   "execution_count": 14,
   "id": "989b31c0-83b3-4476-98a4-b5cddeccbd0d",
   "metadata": {},
   "outputs": [
    {
     "data": {
      "text/plain": [
       "(array([[8297.,    0.,    0.,    0.,    0.,    0.,    0.,    0.,    0.,\n",
       "         1703.],\n",
       "        [8705.,    0.,    0.,    0.,    0.,    0.,    0.,    0.,    0.,\n",
       "         1295.],\n",
       "        [9272.,    0.,    0.,    0.,    0.,    0.,    0.,    0.,    0.,\n",
       "          728.],\n",
       "        [8804.,    0.,    0.,    0.,    0.,    0.,    0.,    0.,    0.,\n",
       "         1196.],\n",
       "        [7305.,    0.,    0.,    0.,    0.,    0.,    0.,    0.,    0.,\n",
       "         2695.],\n",
       "        [9874.,    0.,    0.,    0.,    0.,    0.,    0.,    0.,    0.,\n",
       "          126.],\n",
       "        [8888.,    0.,    0.,    0.,    0.,    0.,    0.,    0.,    0.,\n",
       "         1112.],\n",
       "        [7909.,    0.,    0.,    0.,    0.,    0.,    0.,    0.,    0.,\n",
       "         2091.],\n",
       "        [9048.,    0.,    0.,    0.,    0.,    0.,    0.,    0.,    0.,\n",
       "          952.],\n",
       "        [9511.,    0.,    0.,    0.,    0.,    0.,    0.,    0.,    0.,\n",
       "          489.]]),\n",
       " array([0. , 0.1, 0.2, 0.3, 0.4, 0.5, 0.6, 0.7, 0.8, 0.9, 1. ]),\n",
       " <a list of 10 BarContainer objects>)"
      ]
     },
     "execution_count": 14,
     "metadata": {},
     "output_type": "execute_result"
    },
    {
     "data": {
      "image/png": "[encoded data removed]",
      "text/plain": [
       "<Figure size 432x288 with 1 Axes>"
      ]
     },
     "metadata": {
      "needs_background": "light"
     },
     "output_type": "display_data"
    }
   ],
   "source": [
    "plt.hist(dataset)"
   ]
  },
  {
   "cell_type": "code",
   "execution_count": 8,
   "id": "d00d61e5-25a7-4b1e-bd1f-189c89497935",
   "metadata": {},
   "outputs": [
    {
     "data": {
      "text/plain": [
       "Ad 1     1703\n",
       "Ad 2     1295\n",
       "Ad 3      728\n",
       "Ad 4     1196\n",
       "Ad 5     2695\n",
       "Ad 6      126\n",
       "Ad 7     1112\n",
       "Ad 8     2091\n",
       "Ad 9      952\n",
       "Ad 10     489\n",
       "dtype: int64"
      ]
     },
     "execution_count": 8,
     "metadata": {},
     "output_type": "execute_result"
    }
   ],
   "source": [
    "dataset.sum()"
   ]
  },
  {
   "cell_type": "code",
   "execution_count": 9,
   "id": "a72600fe-7d57-4746-9918-263bb754e3bd",
   "metadata": {},
   "outputs": [
    {
     "data": {
      "text/plain": [
       "2663    6\n",
       "220     5\n",
       "308     5\n",
       "420     5\n",
       "458     5\n",
       "697     5\n",
       "968     5\n",
       "1434    5\n",
       "1768    5\n",
       "2397    5\n",
       "dtype: int64"
      ]
     },
     "execution_count": 9,
     "metadata": {},
     "output_type": "execute_result"
    }
   ],
   "source": [
    "x = dataset.sum(1)\n",
    "x.nlargest(n=10)"
   ]
  },
  {
   "cell_type": "code",
   "execution_count": 10,
   "id": "4998f60e-8d06-4e63-8116-fe57f4353fce",
   "metadata": {},
   "outputs": [],
   "source": [
    "import math\n",
    "N = 10000\n",
    "d = 10\n",
    "ads_selected = []\n",
    "number_of_selection = [0] * d\n",
    "sum_of_reward = [0] * d\n",
    "total_reward = 0"
   ]
  },
  {
   "cell_type": "code",
   "execution_count": 11,
   "id": "7c92086f-7834-4967-89f3-8334c6a5b87c",
   "metadata": {},
   "outputs": [],
   "source": [
    "for n in range(0, N):\n",
    "    ad = 0\n",
    "    max_upper_bound = 0\n",
    "    for i in range(0, d):\n",
    "        if (number_of_selection[i] > 0):\n",
    "            average_reward = sum_of_reward[i] / number_of_selection[i]\n",
    "            delta_i = math.sqrt(3/2 * math.log(n + 1) / number_of_selection[i])\n",
    "            upper_bound = average_reward + delta_i\n",
    "        else:\n",
    "            upper_bound = 1e400\n",
    "        if upper_bound > max_upper_bound:\n",
    "            max_upper_bound = upper_bound\n",
    "            ad = i\n",
    "            \n",
    "    ads_selected.append(ad)\n",
    "    number_of_selection[ad] = number_of_selection[ad] + 1\n",
    "    reward = dataset.values[n, ad]\n",
    "    sum_of_reward[ad] = sum_of_reward[ad] + reward\n",
    "    total_reward = total_reward + reward\n",
    "#plt.hist(ads_selected)"
   ]
  },
  {
   "cell_type": "code",
   "execution_count": 12,
   "id": "3f28bf92-4a10-454e-98b7-1ddcdf5902ed",
   "metadata": {},
   "outputs": [
    {
     "data": {
      "text/plain": [
       "(array([  901.,   454.,   203.,   400., 15129.,   165.,   385.,  1829.,\n",
       "          319.,   215.]),\n",
       " array([0. , 0.9, 1.8, 2.7, 3.6, 4.5, 5.4, 6.3, 7.2, 8.1, 9. ]),\n",
       " <BarContainer object of 10 artists>)"
      ]
     },
     "execution_count": 12,
     "metadata": {},
     "output_type": "execute_result"
    },
    {
     "data": {
      "image/png": "[encoded data removed]",
      "text/plain": [
       "<Figure size 432x288 with 1 Axes>"
      ]
     },
     "metadata": {
      "needs_background": "light"
     },
     "output_type": "display_data"
    }
   ],
   "source": [
    "for n in range(0, N):\n",
    "    ad = 0\n",
    "    max_upper_bound = 0\n",
    "    \n",
    "    for i in range(0, d):\n",
    "        if (number_of_selection[i] > 0):\n",
    "            max_reward = sum_of_reward[i] / number_of_selection[i]\n",
    "            delta_i = math.sqrt(3/2 * math.log(n + 1) / number_of_selection[i])\n",
    "            upper_bound = max_reward + delta_i\n",
    "        else:\n",
    "            upper_bound = 1e400\n",
    "        if upper_bound > max_upper_bound:\n",
    "            max_upper_bound = upper_bound\n",
    "            ad = i\n",
    "    \n",
    "    ads_selected.append(ad)\n",
    "    number_of_selection[ad] = number_of_selection[ad] + 1\n",
    "    reward = dataset.values[n, ad]\n",
    "    sum_of_reward[ad] = sum_of_reward[ad] + reward\n",
    "    total_reward = total_reward + reward\n",
    "    \n",
    "plt.hist(ads_selected)"
   ]
  },
  {
   "cell_type": "code",
   "execution_count": null,
   "id": "fdbd4810-6325-4d6a-b32c-ef52c0745ea7",
   "metadata": {},
   "outputs": [],
   "source": []
  }
 ],
 "metadata": {
  "kernelspec": {
   "display_name": "Python 3 (ipykernel)",
   "language": "python",
   "name": "python3"
  },
  "language_info": {
   "codemirror_mode": {
    "name": "ipython",
    "version": 3
   },
   "file_extension": ".py",
   "mimetype": "text/x-python",
   "name": "python",
   "nbconvert_exporter": "python",
   "pygments_lexer": "ipython3",
   "version": "3.10.2"
  }
 },
 "nbformat": 4,
 "nbformat_minor": 5
}
